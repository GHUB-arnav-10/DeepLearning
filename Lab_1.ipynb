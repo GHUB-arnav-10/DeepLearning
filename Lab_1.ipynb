{
  "nbformat": 4,
  "nbformat_minor": 0,
  "metadata": {
    "colab": {
      "provenance": [],
      "authorship_tag": "ABX9TyO6QNf4C7Ab2PeBIJZ0FpW9"
    },
    "kernelspec": {
      "name": "python3",
      "display_name": "Python 3"
    },
    "language_info": {
      "name": "python"
    }
  },
  "cells": [
    {
      "cell_type": "code",
      "execution_count": 1,
      "metadata": {
        "id": "1vz5I1W1RG_M"
      },
      "outputs": [],
      "source": [
        "from tabulate import tabulate"
      ]
    },
    {
      "cell_type": "markdown",
      "source": [
        "For AND gate:"
      ],
      "metadata": {
        "id": "jgZveB1bRwjL"
      }
    },
    {
      "cell_type": "code",
      "source": [
        "x1 = []\n",
        "x2 = []\n",
        "w1 = []\n",
        "w2 = []\n",
        "for i in range(0,4):\n",
        "  a=int(input())\n",
        "  x1.append(a)\n",
        "for i in range(0,4):\n",
        "  a=int(input())\n",
        "  x2.append(a)\n",
        "for i in range(0,4):\n",
        "  a=int(input())\n",
        "  w1.append(a)\n",
        "for i in range(0,4):\n",
        "  a=int(input())\n",
        "  w2.append(a)\n",
        "t = 2\n",
        "print(\"x1    x2    w1   w2     t     O\")\n",
        "for i in range(len(x1)):\n",
        "    if ( x1[i]*w1[i] + x2[i]*w2[i] ) >= t:\n",
        "        print(x1[i],'   ',x2[i],'   ',w1[i],'   ',w2[i],'   ',t,'   ', 1)\n",
        "    else:\n",
        "        print(x1[i],'   ',x2[i],'   ',w1[i],'   ',w2[i],'   ',t,'   ', 0)"
      ],
      "metadata": {
        "colab": {
          "base_uri": "https://localhost:8080/"
        },
        "id": "m0Q5tyeJRmsr",
        "outputId": "0d528ae3-e1a3-4077-c0cb-b0efcad6c086"
      },
      "execution_count": 5,
      "outputs": [
        {
          "output_type": "stream",
          "name": "stdout",
          "text": [
            "0\n",
            "0\n",
            "1\n",
            "1\n",
            "0\n",
            "1\n",
            "0\n",
            "1\n",
            "1\n",
            "1\n",
            "1\n",
            "1\n",
            "1\n",
            "1\n",
            "1\n",
            "1\n",
            "x1    x2    w1   w2     t     O\n",
            "0     0     1     1     2     0\n",
            "0     1     1     1     2     0\n",
            "1     0     1     1     2     0\n",
            "1     1     1     1     2     1\n"
          ]
        }
      ]
    },
    {
      "cell_type": "markdown",
      "source": [
        "For OR gate:"
      ],
      "metadata": {
        "id": "Obz2be6-R5nU"
      }
    },
    {
      "cell_type": "code",
      "source": [
        "x1 = []\n",
        "x2 = []\n",
        "w1 = []\n",
        "w2 = []\n",
        "t = 1\n",
        "for i in range(0,4):\n",
        "  a=int(input())\n",
        "  x1.append(a)\n",
        "for i in range(0,4):\n",
        "  a=int(input())\n",
        "  x2.append(a)\n",
        "for i in range(0,4):\n",
        "  a=int(input())\n",
        "  w1.append(a)\n",
        "for i in range(0,4):\n",
        "  a=int(input())\n",
        "  w2.append(a)\n",
        "print(\"x1    x2    w1   w2     t     O\")\n",
        "for i in range(len(x1)):\n",
        "    if ( x1[i]*w1[i] + x2[i]*w2[i] ) >= t:\n",
        "        print(x1[i],'   ',x2[i],'   ',w1[i],'   ',w2[i],'   ',t,'   ', 1)\n",
        "    else:\n",
        "        print(x1[i],'   ',x2[i],'   ',w1[i],'   ',w2[i],'   ',t,'   ', 0)"
      ],
      "metadata": {
        "colab": {
          "base_uri": "https://localhost:8080/"
        },
        "id": "ITNDo7QVR8RE",
        "outputId": "68eb01de-bb5d-4ee7-a658-0eb29bb55007"
      },
      "execution_count": 6,
      "outputs": [
        {
          "output_type": "stream",
          "name": "stdout",
          "text": [
            "0\n",
            "0\n",
            "1\n",
            "1\n",
            "0\n",
            "1\n",
            "0\n",
            "1\n",
            "0\n",
            "0\n",
            "0\n",
            "0\n",
            "0\n",
            "0\n",
            "0\n",
            "0\n",
            "x1    x2    w1   w2     t     O\n",
            "0     0     0     0     1     0\n",
            "0     1     0     0     1     0\n",
            "1     0     0     0     1     0\n",
            "1     1     0     0     1     0\n"
          ]
        }
      ]
    }
  ]
}