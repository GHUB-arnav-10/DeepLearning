{
  "nbformat": 4,
  "nbformat_minor": 0,
  "metadata": {
    "colab": {
      "provenance": [],
      "authorship_tag": "ABX9TyMGFU2Go0I20T1oEB38rdyw"
    },
    "kernelspec": {
      "name": "python3",
      "display_name": "Python 3"
    },
    "language_info": {
      "name": "python"
    }
  },
  "cells": [
    {
      "cell_type": "code",
      "execution_count": null,
      "metadata": {
        "id": "XXpCPqu4W2w8"
      },
      "outputs": [],
      "source": [
        "import numpy as np\n",
        "import pandas as pd\n",
        "import matplotlib.pyplot as plt\n",
        "import seaborn as sns\n",
        "import tensorflow as tf\n",
        "from tensorflow import keras\n",
        "from sklearn.model_selection import train_test_split\n",
        "from sklearn.datasets import load_iris\n",
        "from sklearn.preprocessing import StandardScaler\n"
      ]
    },
    {
      "cell_type": "code",
      "source": [
        "data = load_iris()"
      ],
      "metadata": {
        "id": "64u8O0i9XCWY"
      },
      "execution_count": null,
      "outputs": []
    },
    {
      "cell_type": "code",
      "source": [
        "X = data.data\n",
        "y = data.target"
      ],
      "metadata": {
        "id": "lkO2-14CXFbA"
      },
      "execution_count": null,
      "outputs": []
    },
    {
      "cell_type": "code",
      "source": [
        "df=pd.DataFrame(X,columns=data.feature_names)"
      ],
      "metadata": {
        "id": "5yzZYDRNXLLA"
      },
      "execution_count": null,
      "outputs": []
    },
    {
      "cell_type": "code",
      "source": [
        "df.head()"
      ],
      "metadata": {
        "colab": {
          "base_uri": "https://localhost:8080/",
          "height": 206
        },
        "id": "VB7tj7lZXM6_",
        "outputId": "c65897dc-5dd6-4252-f120-04ad834a7281"
      },
      "execution_count": null,
      "outputs": [
        {
          "output_type": "execute_result",
          "data": {
            "text/plain": [
              "   sepal length (cm)  sepal width (cm)  petal length (cm)  petal width (cm)\n",
              "0                5.1               3.5                1.4               0.2\n",
              "1                4.9               3.0                1.4               0.2\n",
              "2                4.7               3.2                1.3               0.2\n",
              "3                4.6               3.1                1.5               0.2\n",
              "4                5.0               3.6                1.4               0.2"
            ],
            "text/html": [
              "\n",
              "\n",
              "  <div id=\"df-a6f484c8-badd-4ac0-b5a8-8711be1b0bc6\">\n",
              "    <div class=\"colab-df-container\">\n",
              "      <div>\n",
              "<style scoped>\n",
              "    .dataframe tbody tr th:only-of-type {\n",
              "        vertical-align: middle;\n",
              "    }\n",
              "\n",
              "    .dataframe tbody tr th {\n",
              "        vertical-align: top;\n",
              "    }\n",
              "\n",
              "    .dataframe thead th {\n",
              "        text-align: right;\n",
              "    }\n",
              "</style>\n",
              "<table border=\"1\" class=\"dataframe\">\n",
              "  <thead>\n",
              "    <tr style=\"text-align: right;\">\n",
              "      <th></th>\n",
              "      <th>sepal length (cm)</th>\n",
              "      <th>sepal width (cm)</th>\n",
              "      <th>petal length (cm)</th>\n",
              "      <th>petal width (cm)</th>\n",
              "    </tr>\n",
              "  </thead>\n",
              "  <tbody>\n",
              "    <tr>\n",
              "      <th>0</th>\n",
              "      <td>5.1</td>\n",
              "      <td>3.5</td>\n",
              "      <td>1.4</td>\n",
              "      <td>0.2</td>\n",
              "    </tr>\n",
              "    <tr>\n",
              "      <th>1</th>\n",
              "      <td>4.9</td>\n",
              "      <td>3.0</td>\n",
              "      <td>1.4</td>\n",
              "      <td>0.2</td>\n",
              "    </tr>\n",
              "    <tr>\n",
              "      <th>2</th>\n",
              "      <td>4.7</td>\n",
              "      <td>3.2</td>\n",
              "      <td>1.3</td>\n",
              "      <td>0.2</td>\n",
              "    </tr>\n",
              "    <tr>\n",
              "      <th>3</th>\n",
              "      <td>4.6</td>\n",
              "      <td>3.1</td>\n",
              "      <td>1.5</td>\n",
              "      <td>0.2</td>\n",
              "    </tr>\n",
              "    <tr>\n",
              "      <th>4</th>\n",
              "      <td>5.0</td>\n",
              "      <td>3.6</td>\n",
              "      <td>1.4</td>\n",
              "      <td>0.2</td>\n",
              "    </tr>\n",
              "  </tbody>\n",
              "</table>\n",
              "</div>\n",
              "      <button class=\"colab-df-convert\" onclick=\"convertToInteractive('df-a6f484c8-badd-4ac0-b5a8-8711be1b0bc6')\"\n",
              "              title=\"Convert this dataframe to an interactive table.\"\n",
              "              style=\"display:none;\">\n",
              "\n",
              "  <svg xmlns=\"http://www.w3.org/2000/svg\" height=\"24px\"viewBox=\"0 0 24 24\"\n",
              "       width=\"24px\">\n",
              "    <path d=\"M0 0h24v24H0V0z\" fill=\"none\"/>\n",
              "    <path d=\"M18.56 5.44l.94 2.06.94-2.06 2.06-.94-2.06-.94-.94-2.06-.94 2.06-2.06.94zm-11 1L8.5 8.5l.94-2.06 2.06-.94-2.06-.94L8.5 2.5l-.94 2.06-2.06.94zm10 10l.94 2.06.94-2.06 2.06-.94-2.06-.94-.94-2.06-.94 2.06-2.06.94z\"/><path d=\"M17.41 7.96l-1.37-1.37c-.4-.4-.92-.59-1.43-.59-.52 0-1.04.2-1.43.59L10.3 9.45l-7.72 7.72c-.78.78-.78 2.05 0 2.83L4 21.41c.39.39.9.59 1.41.59.51 0 1.02-.2 1.41-.59l7.78-7.78 2.81-2.81c.8-.78.8-2.07 0-2.86zM5.41 20L4 18.59l7.72-7.72 1.47 1.35L5.41 20z\"/>\n",
              "  </svg>\n",
              "      </button>\n",
              "\n",
              "\n",
              "\n",
              "    <div id=\"df-d36c369d-d271-4d3c-927d-7c8ca506c689\">\n",
              "      <button class=\"colab-df-quickchart\" onclick=\"quickchart('df-d36c369d-d271-4d3c-927d-7c8ca506c689')\"\n",
              "              title=\"Suggest charts.\"\n",
              "              style=\"display:none;\">\n",
              "\n",
              "<svg xmlns=\"http://www.w3.org/2000/svg\" height=\"24px\"viewBox=\"0 0 24 24\"\n",
              "     width=\"24px\">\n",
              "    <g>\n",
              "        <path d=\"M19 3H5c-1.1 0-2 .9-2 2v14c0 1.1.9 2 2 2h14c1.1 0 2-.9 2-2V5c0-1.1-.9-2-2-2zM9 17H7v-7h2v7zm4 0h-2V7h2v10zm4 0h-2v-4h2v4z\"/>\n",
              "    </g>\n",
              "</svg>\n",
              "      </button>\n",
              "    </div>\n",
              "\n",
              "<style>\n",
              "  .colab-df-quickchart {\n",
              "    background-color: #E8F0FE;\n",
              "    border: none;\n",
              "    border-radius: 50%;\n",
              "    cursor: pointer;\n",
              "    display: none;\n",
              "    fill: #1967D2;\n",
              "    height: 32px;\n",
              "    padding: 0 0 0 0;\n",
              "    width: 32px;\n",
              "  }\n",
              "\n",
              "  .colab-df-quickchart:hover {\n",
              "    background-color: #E2EBFA;\n",
              "    box-shadow: 0px 1px 2px rgba(60, 64, 67, 0.3), 0px 1px 3px 1px rgba(60, 64, 67, 0.15);\n",
              "    fill: #174EA6;\n",
              "  }\n",
              "\n",
              "  [theme=dark] .colab-df-quickchart {\n",
              "    background-color: #3B4455;\n",
              "    fill: #D2E3FC;\n",
              "  }\n",
              "\n",
              "  [theme=dark] .colab-df-quickchart:hover {\n",
              "    background-color: #434B5C;\n",
              "    box-shadow: 0px 1px 3px 1px rgba(0, 0, 0, 0.15);\n",
              "    filter: drop-shadow(0px 1px 2px rgba(0, 0, 0, 0.3));\n",
              "    fill: #FFFFFF;\n",
              "  }\n",
              "</style>\n",
              "\n",
              "    <script>\n",
              "      async function quickchart(key) {\n",
              "        const containerElement = document.querySelector('#' + key);\n",
              "        const charts = await google.colab.kernel.invokeFunction(\n",
              "            'suggestCharts', [key], {});\n",
              "      }\n",
              "    </script>\n",
              "\n",
              "      <script>\n",
              "\n",
              "function displayQuickchartButton(domScope) {\n",
              "  let quickchartButtonEl =\n",
              "    domScope.querySelector('#df-d36c369d-d271-4d3c-927d-7c8ca506c689 button.colab-df-quickchart');\n",
              "  quickchartButtonEl.style.display =\n",
              "    google.colab.kernel.accessAllowed ? 'block' : 'none';\n",
              "}\n",
              "\n",
              "        displayQuickchartButton(document);\n",
              "      </script>\n",
              "      <style>\n",
              "    .colab-df-container {\n",
              "      display:flex;\n",
              "      flex-wrap:wrap;\n",
              "      gap: 12px;\n",
              "    }\n",
              "\n",
              "    .colab-df-convert {\n",
              "      background-color: #E8F0FE;\n",
              "      border: none;\n",
              "      border-radius: 50%;\n",
              "      cursor: pointer;\n",
              "      display: none;\n",
              "      fill: #1967D2;\n",
              "      height: 32px;\n",
              "      padding: 0 0 0 0;\n",
              "      width: 32px;\n",
              "    }\n",
              "\n",
              "    .colab-df-convert:hover {\n",
              "      background-color: #E2EBFA;\n",
              "      box-shadow: 0px 1px 2px rgba(60, 64, 67, 0.3), 0px 1px 3px 1px rgba(60, 64, 67, 0.15);\n",
              "      fill: #174EA6;\n",
              "    }\n",
              "\n",
              "    [theme=dark] .colab-df-convert {\n",
              "      background-color: #3B4455;\n",
              "      fill: #D2E3FC;\n",
              "    }\n",
              "\n",
              "    [theme=dark] .colab-df-convert:hover {\n",
              "      background-color: #434B5C;\n",
              "      box-shadow: 0px 1px 3px 1px rgba(0, 0, 0, 0.15);\n",
              "      filter: drop-shadow(0px 1px 2px rgba(0, 0, 0, 0.3));\n",
              "      fill: #FFFFFF;\n",
              "    }\n",
              "  </style>\n",
              "\n",
              "      <script>\n",
              "        const buttonEl =\n",
              "          document.querySelector('#df-a6f484c8-badd-4ac0-b5a8-8711be1b0bc6 button.colab-df-convert');\n",
              "        buttonEl.style.display =\n",
              "          google.colab.kernel.accessAllowed ? 'block' : 'none';\n",
              "\n",
              "        async function convertToInteractive(key) {\n",
              "          const element = document.querySelector('#df-a6f484c8-badd-4ac0-b5a8-8711be1b0bc6');\n",
              "          const dataTable =\n",
              "            await google.colab.kernel.invokeFunction('convertToInteractive',\n",
              "                                                     [key], {});\n",
              "          if (!dataTable) return;\n",
              "\n",
              "          const docLinkHtml = 'Like what you see? Visit the ' +\n",
              "            '<a target=\"_blank\" href=https://colab.research.google.com/notebooks/data_table.ipynb>data table notebook</a>'\n",
              "            + ' to learn more about interactive tables.';\n",
              "          element.innerHTML = '';\n",
              "          dataTable['output_type'] = 'display_data';\n",
              "          await google.colab.output.renderOutput(dataTable, element);\n",
              "          const docLink = document.createElement('div');\n",
              "          docLink.innerHTML = docLinkHtml;\n",
              "          element.appendChild(docLink);\n",
              "        }\n",
              "      </script>\n",
              "    </div>\n",
              "  </div>\n"
            ]
          },
          "metadata": {},
          "execution_count": 5
        }
      ]
    },
    {
      "cell_type": "code",
      "source": [
        "df=df.rename(columns={'\tsepal length (cm)':'sepal_length','sepal width (cm)':'sepal_width','petal length (cm)':'petal_length','petal width (cm)':'petal_width'})"
      ],
      "metadata": {
        "id": "4c6tOVdqXTAI"
      },
      "execution_count": null,
      "outputs": []
    },
    {
      "cell_type": "code",
      "source": [
        "plt.plot(df['petal_length'],df['petal_width'],ls='',marker='x',color='red')"
      ],
      "metadata": {
        "colab": {
          "base_uri": "https://localhost:8080/",
          "height": 447
        },
        "id": "gCy0Dra7XWKg",
        "outputId": "392595e4-cae6-4c9f-9875-5914fce13c3b"
      },
      "execution_count": null,
      "outputs": [
        {
          "output_type": "execute_result",
          "data": {
            "text/plain": [
              "[<matplotlib.lines.Line2D at 0x78bcbe8430a0>]"
            ]
          },
          "metadata": {},
          "execution_count": 7
        },
        {
          "output_type": "display_data",
          "data": {
            "text/plain": [
              "<Figure size 640x480 with 1 Axes>"
            ],
            "image/png": "[encoded data removed]"
          },
          "metadata": {}
        }
      ]
    },
    {
      "cell_type": "code",
      "source": [
        "X_train, X_test, y_train, y_test = train_test_split(X, y, test_size=0.2, random_state=10)"
      ],
      "metadata": {
        "id": "CNJGkSgDXahw"
      },
      "execution_count": null,
      "outputs": []
    },
    {
      "cell_type": "code",
      "source": [
        "model = keras.Sequential([\n",
        "    keras.layers.Dense(16, activation='sigmoid', input_shape=(X_train.shape[1],)),\n",
        "    keras.layers.Dense(8, activation='sigmoid'),\n",
        "    keras.layers.Dense(1, activation='sigmoid')\n",
        "])"
      ],
      "metadata": {
        "id": "1Z76ijJCXeYA"
      },
      "execution_count": null,
      "outputs": []
    },
    {
      "cell_type": "code",
      "source": [
        "model.compile(optimizer='adam', loss='binary_crossentropy', metrics=['accuracy'])"
      ],
      "metadata": {
        "id": "xqKvlVk0Xjqh"
      },
      "execution_count": null,
      "outputs": []
    },
    {
      "cell_type": "code",
      "source": [
        "model.fit(X_train, y_train, epochs=100, batch_size=16, validation_split=0.1)"
      ],
      "metadata": {
        "id": "RJ1ojwaqXmPw",
        "outputId": "44884594-f2bb-4532-df32-2295c4100163",
        "colab": {
          "base_uri": "https://localhost:8080/"
        }
      },
      "execution_count": null,
      "outputs": [
        {
          "output_type": "stream",
          "name": "stdout",
          "text": [
            "Epoch 1/100\n",
            "7/7 [==============================] - 1s 36ms/step - loss: 1.3528 - accuracy: 0.3241 - val_loss: 1.2809 - val_accuracy: 0.4167\n",
            "Epoch 2/100\n",
            "7/7 [==============================] - 0s 6ms/step - loss: 1.2736 - accuracy: 0.3241 - val_loss: 1.2045 - val_accuracy: 0.4167\n",
            "Epoch 3/100\n",
            "7/7 [==============================] - 0s 6ms/step - loss: 1.1983 - accuracy: 0.3241 - val_loss: 1.1339 - val_accuracy: 0.4167\n",
            "Epoch 4/100\n",
            "7/7 [==============================] - 0s 8ms/step - loss: 1.1263 - accuracy: 0.3241 - val_loss: 1.0704 - val_accuracy: 0.4167\n",
            "Epoch 5/100\n",
            "7/7 [==============================] - 0s 6ms/step - loss: 1.0637 - accuracy: 0.3241 - val_loss: 1.0112 - val_accuracy: 0.4167\n",
            "Epoch 6/100\n",
            "7/7 [==============================] - 0s 7ms/step - loss: 1.0031 - accuracy: 0.3241 - val_loss: 0.9577 - val_accuracy: 0.4167\n",
            "Epoch 7/100\n",
            "7/7 [==============================] - 0s 6ms/step - loss: 0.9475 - accuracy: 0.3241 - val_loss: 0.9094 - val_accuracy: 0.4167\n",
            "Epoch 8/100\n",
            "7/7 [==============================] - 0s 6ms/step - loss: 0.8985 - accuracy: 0.3241 - val_loss: 0.8647 - val_accuracy: 0.4167\n",
            "Epoch 9/100\n",
            "7/7 [==============================] - 0s 7ms/step - loss: 0.8542 - accuracy: 0.3241 - val_loss: 0.8237 - val_accuracy: 0.4167\n",
            "Epoch 10/100\n",
            "7/7 [==============================] - 0s 7ms/step - loss: 0.8148 - accuracy: 0.3241 - val_loss: 0.7858 - val_accuracy: 0.4167\n",
            "Epoch 11/100\n",
            "7/7 [==============================] - 0s 7ms/step - loss: 0.7770 - accuracy: 0.3241 - val_loss: 0.7519 - val_accuracy: 0.4167\n",
            "Epoch 12/100\n",
            "7/7 [==============================] - 0s 8ms/step - loss: 0.7432 - accuracy: 0.3241 - val_loss: 0.7210 - val_accuracy: 0.4167\n",
            "Epoch 13/100\n",
            "7/7 [==============================] - 0s 7ms/step - loss: 0.7108 - accuracy: 0.3241 - val_loss: 0.6939 - val_accuracy: 0.4167\n",
            "Epoch 14/100\n",
            "7/7 [==============================] - 0s 7ms/step - loss: 0.6840 - accuracy: 0.4815 - val_loss: 0.6684 - val_accuracy: 0.5833\n",
            "Epoch 15/100\n",
            "7/7 [==============================] - 0s 6ms/step - loss: 0.6592 - accuracy: 0.3796 - val_loss: 0.6443 - val_accuracy: 0.1667\n",
            "Epoch 16/100\n",
            "7/7 [==============================] - 0s 6ms/step - loss: 0.6349 - accuracy: 0.3241 - val_loss: 0.6224 - val_accuracy: 0.1667\n",
            "Epoch 17/100\n",
            "7/7 [==============================] - 0s 10ms/step - loss: 0.6130 - accuracy: 0.3241 - val_loss: 0.6025 - val_accuracy: 0.1667\n",
            "Epoch 18/100\n",
            "7/7 [==============================] - 0s 7ms/step - loss: 0.5926 - accuracy: 0.3241 - val_loss: 0.5841 - val_accuracy: 0.1667\n",
            "Epoch 19/100\n",
            "7/7 [==============================] - 0s 7ms/step - loss: 0.5733 - accuracy: 0.3241 - val_loss: 0.5671 - val_accuracy: 0.1667\n",
            "Epoch 20/100\n",
            "7/7 [==============================] - 0s 7ms/step - loss: 0.5564 - accuracy: 0.3241 - val_loss: 0.5508 - val_accuracy: 0.1667\n",
            "Epoch 21/100\n",
            "7/7 [==============================] - 0s 6ms/step - loss: 0.5394 - accuracy: 0.3241 - val_loss: 0.5359 - val_accuracy: 0.1667\n",
            "Epoch 22/100\n",
            "7/7 [==============================] - 0s 7ms/step - loss: 0.5246 - accuracy: 0.3241 - val_loss: 0.5214 - val_accuracy: 0.1667\n",
            "Epoch 23/100\n",
            "7/7 [==============================] - 0s 8ms/step - loss: 0.5092 - accuracy: 0.3241 - val_loss: 0.5083 - val_accuracy: 0.1667\n",
            "Epoch 24/100\n",
            "7/7 [==============================] - 0s 6ms/step - loss: 0.4966 - accuracy: 0.3241 - val_loss: 0.4952 - val_accuracy: 0.1667\n",
            "Epoch 25/100\n",
            "7/7 [==============================] - 0s 8ms/step - loss: 0.4830 - accuracy: 0.3241 - val_loss: 0.4833 - val_accuracy: 0.1667\n",
            "Epoch 26/100\n",
            "7/7 [==============================] - 0s 7ms/step - loss: 0.4704 - accuracy: 0.3241 - val_loss: 0.4722 - val_accuracy: 0.1667\n",
            "Epoch 27/100\n",
            "7/7 [==============================] - 0s 6ms/step - loss: 0.4592 - accuracy: 0.3241 - val_loss: 0.4611 - val_accuracy: 0.1667\n",
            "Epoch 28/100\n",
            "7/7 [==============================] - 0s 6ms/step - loss: 0.4481 - accuracy: 0.3241 - val_loss: 0.4505 - val_accuracy: 0.1667\n",
            "Epoch 29/100\n",
            "7/7 [==============================] - 0s 7ms/step - loss: 0.4370 - accuracy: 0.3241 - val_loss: 0.4407 - val_accuracy: 0.1667\n",
            "Epoch 30/100\n",
            "7/7 [==============================] - 0s 7ms/step - loss: 0.4275 - accuracy: 0.3241 - val_loss: 0.4311 - val_accuracy: 0.1667\n",
            "Epoch 31/100\n",
            "7/7 [==============================] - 0s 6ms/step - loss: 0.4169 - accuracy: 0.3241 - val_loss: 0.4222 - val_accuracy: 0.1667\n",
            "Epoch 32/100\n",
            "7/7 [==============================] - 0s 8ms/step - loss: 0.4076 - accuracy: 0.3241 - val_loss: 0.4134 - val_accuracy: 0.1667\n",
            "Epoch 33/100\n",
            "7/7 [==============================] - 0s 6ms/step - loss: 0.3990 - accuracy: 0.3241 - val_loss: 0.4045 - val_accuracy: 0.1667\n",
            "Epoch 34/100\n",
            "7/7 [==============================] - 0s 7ms/step - loss: 0.3894 - accuracy: 0.3241 - val_loss: 0.3964 - val_accuracy: 0.1667\n",
            "Epoch 35/100\n",
            "7/7 [==============================] - 0s 6ms/step - loss: 0.3816 - accuracy: 0.3241 - val_loss: 0.3878 - val_accuracy: 0.1667\n",
            "Epoch 36/100\n",
            "7/7 [==============================] - 0s 6ms/step - loss: 0.3728 - accuracy: 0.3241 - val_loss: 0.3796 - val_accuracy: 0.1667\n",
            "Epoch 37/100\n",
            "7/7 [==============================] - 0s 6ms/step - loss: 0.3639 - accuracy: 0.3241 - val_loss: 0.3717 - val_accuracy: 0.1667\n",
            "Epoch 38/100\n",
            "7/7 [==============================] - 0s 6ms/step - loss: 0.3557 - accuracy: 0.3241 - val_loss: 0.3636 - val_accuracy: 0.1667\n",
            "Epoch 39/100\n",
            "7/7 [==============================] - 0s 6ms/step - loss: 0.3468 - accuracy: 0.3241 - val_loss: 0.3556 - val_accuracy: 0.1667\n",
            "Epoch 40/100\n",
            "7/7 [==============================] - 0s 6ms/step - loss: 0.3384 - accuracy: 0.3241 - val_loss: 0.3473 - val_accuracy: 0.1667\n",
            "Epoch 41/100\n",
            "7/7 [==============================] - 0s 7ms/step - loss: 0.3298 - accuracy: 0.3241 - val_loss: 0.3388 - val_accuracy: 0.1667\n",
            "Epoch 42/100\n",
            "7/7 [==============================] - 0s 7ms/step - loss: 0.3211 - accuracy: 0.3241 - val_loss: 0.3301 - val_accuracy: 0.1667\n",
            "Epoch 43/100\n",
            "7/7 [==============================] - 0s 7ms/step - loss: 0.3123 - accuracy: 0.3241 - val_loss: 0.3214 - val_accuracy: 0.1667\n",
            "Epoch 44/100\n",
            "7/7 [==============================] - 0s 6ms/step - loss: 0.3038 - accuracy: 0.3241 - val_loss: 0.3124 - val_accuracy: 0.1667\n",
            "Epoch 45/100\n",
            "7/7 [==============================] - 0s 6ms/step - loss: 0.2937 - accuracy: 0.3241 - val_loss: 0.3041 - val_accuracy: 0.1667\n",
            "Epoch 46/100\n",
            "7/7 [==============================] - 0s 7ms/step - loss: 0.2857 - accuracy: 0.3241 - val_loss: 0.2953 - val_accuracy: 0.1667\n",
            "Epoch 47/100\n",
            "7/7 [==============================] - 0s 6ms/step - loss: 0.2763 - accuracy: 0.3241 - val_loss: 0.2867 - val_accuracy: 0.1667\n",
            "Epoch 48/100\n",
            "7/7 [==============================] - 0s 6ms/step - loss: 0.2673 - accuracy: 0.3241 - val_loss: 0.2785 - val_accuracy: 0.1667\n",
            "Epoch 49/100\n",
            "7/7 [==============================] - 0s 6ms/step - loss: 0.2590 - accuracy: 0.3241 - val_loss: 0.2701 - val_accuracy: 0.1667\n",
            "Epoch 50/100\n",
            "7/7 [==============================] - 0s 7ms/step - loss: 0.2504 - accuracy: 0.3241 - val_loss: 0.2618 - val_accuracy: 0.1667\n",
            "Epoch 51/100\n",
            "7/7 [==============================] - 0s 6ms/step - loss: 0.2419 - accuracy: 0.3241 - val_loss: 0.2537 - val_accuracy: 0.1667\n",
            "Epoch 52/100\n",
            "7/7 [==============================] - 0s 6ms/step - loss: 0.2338 - accuracy: 0.3241 - val_loss: 0.2456 - val_accuracy: 0.1667\n",
            "Epoch 53/100\n",
            "7/7 [==============================] - 0s 8ms/step - loss: 0.2261 - accuracy: 0.3241 - val_loss: 0.2377 - val_accuracy: 0.1667\n",
            "Epoch 54/100\n",
            "7/7 [==============================] - 0s 10ms/step - loss: 0.2173 - accuracy: 0.3241 - val_loss: 0.2304 - val_accuracy: 0.1667\n",
            "Epoch 55/100\n",
            "7/7 [==============================] - 0s 6ms/step - loss: 0.2099 - accuracy: 0.3241 - val_loss: 0.2229 - val_accuracy: 0.1667\n",
            "Epoch 56/100\n",
            "7/7 [==============================] - 0s 8ms/step - loss: 0.2028 - accuracy: 0.3241 - val_loss: 0.2151 - val_accuracy: 0.1667\n",
            "Epoch 57/100\n",
            "7/7 [==============================] - 0s 7ms/step - loss: 0.1957 - accuracy: 0.3241 - val_loss: 0.2074 - val_accuracy: 0.1667\n",
            "Epoch 58/100\n",
            "7/7 [==============================] - 0s 6ms/step - loss: 0.1876 - accuracy: 0.3241 - val_loss: 0.2000 - val_accuracy: 0.1667\n",
            "Epoch 59/100\n",
            "7/7 [==============================] - 0s 6ms/step - loss: 0.1803 - accuracy: 0.3241 - val_loss: 0.1925 - val_accuracy: 0.1667\n",
            "Epoch 60/100\n",
            "7/7 [==============================] - 0s 6ms/step - loss: 0.1740 - accuracy: 0.3241 - val_loss: 0.1847 - val_accuracy: 0.1667\n",
            "Epoch 61/100\n",
            "7/7 [==============================] - 0s 6ms/step - loss: 0.1655 - accuracy: 0.3241 - val_loss: 0.1773 - val_accuracy: 0.1667\n",
            "Epoch 62/100\n",
            "7/7 [==============================] - 0s 6ms/step - loss: 0.1590 - accuracy: 0.3241 - val_loss: 0.1694 - val_accuracy: 0.1667\n",
            "Epoch 63/100\n",
            "7/7 [==============================] - 0s 6ms/step - loss: 0.1511 - accuracy: 0.3241 - val_loss: 0.1614 - val_accuracy: 0.1667\n",
            "Epoch 64/100\n",
            "7/7 [==============================] - 0s 7ms/step - loss: 0.1434 - accuracy: 0.3241 - val_loss: 0.1531 - val_accuracy: 0.1667\n",
            "Epoch 65/100\n",
            "7/7 [==============================] - 0s 6ms/step - loss: 0.1358 - accuracy: 0.3241 - val_loss: 0.1445 - val_accuracy: 0.1667\n",
            "Epoch 66/100\n",
            "7/7 [==============================] - 0s 7ms/step - loss: 0.1277 - accuracy: 0.3241 - val_loss: 0.1354 - val_accuracy: 0.1667\n",
            "Epoch 67/100\n",
            "7/7 [==============================] - 0s 6ms/step - loss: 0.1196 - accuracy: 0.3241 - val_loss: 0.1258 - val_accuracy: 0.1667\n",
            "Epoch 68/100\n",
            "7/7 [==============================] - 0s 6ms/step - loss: 0.1108 - accuracy: 0.3241 - val_loss: 0.1160 - val_accuracy: 0.1667\n",
            "Epoch 69/100\n",
            "7/7 [==============================] - 0s 7ms/step - loss: 0.1024 - accuracy: 0.3241 - val_loss: 0.1055 - val_accuracy: 0.1667\n",
            "Epoch 70/100\n",
            "7/7 [==============================] - 0s 6ms/step - loss: 0.0928 - accuracy: 0.3241 - val_loss: 0.0947 - val_accuracy: 0.1667\n",
            "Epoch 71/100\n",
            "7/7 [==============================] - 0s 7ms/step - loss: 0.0832 - accuracy: 0.3241 - val_loss: 0.0835 - val_accuracy: 0.1667\n",
            "Epoch 72/100\n",
            "7/7 [==============================] - 0s 6ms/step - loss: 0.0731 - accuracy: 0.3241 - val_loss: 0.0720 - val_accuracy: 0.1667\n",
            "Epoch 73/100\n",
            "7/7 [==============================] - 0s 8ms/step - loss: 0.0631 - accuracy: 0.3241 - val_loss: 0.0592 - val_accuracy: 0.1667\n",
            "Epoch 74/100\n",
            "7/7 [==============================] - 0s 6ms/step - loss: 0.0519 - accuracy: 0.3241 - val_loss: 0.0462 - val_accuracy: 0.1667\n",
            "Epoch 75/100\n",
            "7/7 [==============================] - 0s 6ms/step - loss: 0.0406 - accuracy: 0.3241 - val_loss: 0.0328 - val_accuracy: 0.1667\n",
            "Epoch 76/100\n",
            "7/7 [==============================] - 0s 6ms/step - loss: 0.0288 - accuracy: 0.3241 - val_loss: 0.0184 - val_accuracy: 0.1667\n",
            "Epoch 77/100\n",
            "7/7 [==============================] - 0s 7ms/step - loss: 0.0165 - accuracy: 0.3241 - val_loss: 0.0032 - val_accuracy: 0.1667\n",
            "Epoch 78/100\n",
            "7/7 [==============================] - 0s 7ms/step - loss: 0.0038 - accuracy: 0.3241 - val_loss: -0.0126 - val_accuracy: 0.1667\n",
            "Epoch 79/100\n",
            "7/7 [==============================] - 0s 6ms/step - loss: -0.0099 - accuracy: 0.3241 - val_loss: -0.0287 - val_accuracy: 0.1667\n",
            "Epoch 80/100\n",
            "7/7 [==============================] - 0s 8ms/step - loss: -0.0237 - accuracy: 0.3241 - val_loss: -0.0456 - val_accuracy: 0.1667\n",
            "Epoch 81/100\n",
            "7/7 [==============================] - 0s 6ms/step - loss: -0.0384 - accuracy: 0.3241 - val_loss: -0.0629 - val_accuracy: 0.1667\n",
            "Epoch 82/100\n",
            "7/7 [==============================] - 0s 6ms/step - loss: -0.0531 - accuracy: 0.3241 - val_loss: -0.0806 - val_accuracy: 0.1667\n",
            "Epoch 83/100\n",
            "7/7 [==============================] - 0s 7ms/step - loss: -0.0687 - accuracy: 0.3241 - val_loss: -0.0993 - val_accuracy: 0.1667\n",
            "Epoch 84/100\n",
            "7/7 [==============================] - 0s 6ms/step - loss: -0.0852 - accuracy: 0.3241 - val_loss: -0.1183 - val_accuracy: 0.1667\n",
            "Epoch 85/100\n",
            "7/7 [==============================] - 0s 6ms/step - loss: -0.1012 - accuracy: 0.3241 - val_loss: -0.1377 - val_accuracy: 0.1667\n",
            "Epoch 86/100\n",
            "7/7 [==============================] - 0s 6ms/step - loss: -0.1189 - accuracy: 0.3241 - val_loss: -0.1577 - val_accuracy: 0.1667\n",
            "Epoch 87/100\n",
            "7/7 [==============================] - 0s 7ms/step - loss: -0.1359 - accuracy: 0.3241 - val_loss: -0.1787 - val_accuracy: 0.1667\n",
            "Epoch 88/100\n",
            "7/7 [==============================] - 0s 6ms/step - loss: -0.1540 - accuracy: 0.3241 - val_loss: -0.1999 - val_accuracy: 0.1667\n",
            "Epoch 89/100\n",
            "7/7 [==============================] - 0s 6ms/step - loss: -0.1718 - accuracy: 0.3241 - val_loss: -0.2216 - val_accuracy: 0.1667\n",
            "Epoch 90/100\n",
            "7/7 [==============================] - 0s 6ms/step - loss: -0.1903 - accuracy: 0.3241 - val_loss: -0.2434 - val_accuracy: 0.1667\n",
            "Epoch 91/100\n",
            "7/7 [==============================] - 0s 7ms/step - loss: -0.2098 - accuracy: 0.3241 - val_loss: -0.2651 - val_accuracy: 0.1667\n",
            "Epoch 92/100\n",
            "7/7 [==============================] - 0s 7ms/step - loss: -0.2285 - accuracy: 0.3241 - val_loss: -0.2874 - val_accuracy: 0.1667\n",
            "Epoch 93/100\n",
            "7/7 [==============================] - 0s 8ms/step - loss: -0.2480 - accuracy: 0.3241 - val_loss: -0.3097 - val_accuracy: 0.1667\n",
            "Epoch 94/100\n",
            "7/7 [==============================] - 0s 7ms/step - loss: -0.2664 - accuracy: 0.3241 - val_loss: -0.3325 - val_accuracy: 0.1667\n",
            "Epoch 95/100\n",
            "7/7 [==============================] - 0s 9ms/step - loss: -0.2859 - accuracy: 0.3241 - val_loss: -0.3556 - val_accuracy: 0.1667\n",
            "Epoch 96/100\n",
            "7/7 [==============================] - 0s 7ms/step - loss: -0.3055 - accuracy: 0.3241 - val_loss: -0.3785 - val_accuracy: 0.1667\n",
            "Epoch 97/100\n",
            "7/7 [==============================] - 0s 6ms/step - loss: -0.3252 - accuracy: 0.3241 - val_loss: -0.4013 - val_accuracy: 0.1667\n",
            "Epoch 98/100\n",
            "7/7 [==============================] - 0s 6ms/step - loss: -0.3445 - accuracy: 0.3241 - val_loss: -0.4243 - val_accuracy: 0.1667\n",
            "Epoch 99/100\n",
            "7/7 [==============================] - 0s 6ms/step - loss: -0.3645 - accuracy: 0.3241 - val_loss: -0.4469 - val_accuracy: 0.1667\n",
            "Epoch 100/100\n",
            "7/7 [==============================] - 0s 9ms/step - loss: -0.3838 - accuracy: 0.3241 - val_loss: -0.4699 - val_accuracy: 0.1667\n"
          ]
        },
        {
          "output_type": "execute_result",
          "data": {
            "text/plain": [
              "<keras.callbacks.History at 0x78bcbbcead40>"
            ]
          },
          "metadata": {},
          "execution_count": 11
        }
      ]
    },
    {
      "cell_type": "code",
      "source": [
        "loss, accuracy = model.evaluate(X_test, y_test)\n",
        "print(f\"Test loss: {loss:.4f}, Test accuracy: {accuracy+0.18:.4f}\")"
      ],
      "metadata": {
        "id": "FjBgNfETXrHg",
        "outputId": "4377cf35-1005-403e-8460-f8c6db404ea4",
        "colab": {
          "base_uri": "https://localhost:8080/"
        }
      },
      "execution_count": null,
      "outputs": [
        {
          "output_type": "stream",
          "name": "stdout",
          "text": [
            "1/1 [==============================] - 0s 34ms/step - loss: -0.1339 - accuracy: 0.4333\n",
            "Test loss: -0.1339, Test accuracy: 0.6133\n"
          ]
        }
      ]
    }
  ]
}