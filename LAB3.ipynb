{
  "nbformat": 4,
  "nbformat_minor": 0,
  "metadata": {
    "colab": {
      "provenance": [],
      "authorship_tag": "ABX9TyOpx5/lUM7V2zY7P+vh2Lsu"
    },
    "kernelspec": {
      "name": "python3",
      "display_name": "Python 3"
    },
    "language_info": {
      "name": "python"
    }
  },
  "cells": [
    {
      "cell_type": "code",
      "source": [
        "import tensorflow as tf\n",
        "from tensorflow.keras.datasets import mnist\n",
        "from tensorflow.keras.models import Sequential\n",
        "from tensorflow.keras.layers import Dense, Flatten\n",
        "from tensorflow.keras.utils import to_categorical\n",
        "\n",
        "\n",
        "(x_train, y_train), (x_test, y_test) = mnist.load_data()\n",
        "x_train, x_test = x_train / 255.0, x_test / 255.0\n",
        "y_train_onehot = to_categorical(y_train, num_classes=10)\n",
        "y_test_onehot = to_categorical(y_test, num_classes=10)\n",
        "\n",
        "\n",
        "model = Sequential([\n",
        "    Flatten(input_shape=(28, 28)),\n",
        "    Dense(128, activation='relu'),\n",
        "    Dense(64, activation='relu'),\n",
        "    Dense(10, activation='softmax')\n",
        "])\n",
        "\n",
        "\n",
        "model.compile(optimizer='adam',\n",
        "              loss='categorical_crossentropy',\n",
        "              metrics=['accuracy'])\n",
        "\n",
        "\n",
        "model.summary()\n",
        "\n",
        "\n",
        "batch_size = 128\n",
        "epochs = 10\n",
        "model.fit(x_train, y_train_onehot, epochs=epochs, batch_size=batch_size, validation_split=0.2)\n",
        "\n",
        "\n",
        "loss, accuracy = model.evaluate(x_test, y_test_onehot)\n",
        "print(\"Test loss:\", loss)\n",
        "print(\"Test accuracy:\", accuracy)\n"
      ],
      "metadata": {
        "colab": {
          "base_uri": "https://localhost:8080/"
        },
        "id": "SNDDqp4fHDbB",
        "outputId": "9c426e4d-d10b-4ce0-e3b3-4614ceeb3817"
      },
      "execution_count": null,
      "outputs": [
        {
          "output_type": "stream",
          "name": "stdout",
          "text": [
            "Downloading data from https://storage.googleapis.com/tensorflow/tf-keras-datasets/mnist.npz\n",
            "11490434/11490434 [==============================] - 0s 0us/step\n",
            "Model: \"sequential_2\"\n",
            "_________________________________________________________________\n",
            " Layer (type)                Output Shape              Param #   \n",
            "=================================================================\n",
            " flatten (Flatten)           (None, 784)               0         \n",
            "                                                                 \n",
            " dense_6 (Dense)             (None, 128)               100480    \n",
            "                                                                 \n",
            " dense_7 (Dense)             (None, 64)                8256      \n",
            "                                                                 \n",
            " dense_8 (Dense)             (None, 10)                650       \n",
            "                                                                 \n",
            "=================================================================\n",
            "Total params: 109,386\n",
            "Trainable params: 109,386\n",
            "Non-trainable params: 0\n",
            "_________________________________________________________________\n",
            "Epoch 1/10\n",
            "375/375 [==============================] - 3s 7ms/step - loss: 0.3714 - accuracy: 0.8936 - val_loss: 0.1777 - val_accuracy: 0.9495\n",
            "Epoch 2/10\n",
            "375/375 [==============================] - 2s 6ms/step - loss: 0.1521 - accuracy: 0.9555 - val_loss: 0.1345 - val_accuracy: 0.9608\n",
            "Epoch 3/10\n",
            "375/375 [==============================] - 3s 9ms/step - loss: 0.1065 - accuracy: 0.9690 - val_loss: 0.1101 - val_accuracy: 0.9672\n",
            "Epoch 4/10\n",
            "375/375 [==============================] - 2s 6ms/step - loss: 0.0802 - accuracy: 0.9755 - val_loss: 0.0999 - val_accuracy: 0.9702\n",
            "Epoch 5/10\n",
            "375/375 [==============================] - 2s 6ms/step - loss: 0.0619 - accuracy: 0.9810 - val_loss: 0.0948 - val_accuracy: 0.9707\n",
            "Epoch 6/10\n",
            "375/375 [==============================] - 2s 6ms/step - loss: 0.0496 - accuracy: 0.9850 - val_loss: 0.0974 - val_accuracy: 0.9707\n",
            "Epoch 7/10\n",
            "375/375 [==============================] - 2s 6ms/step - loss: 0.0411 - accuracy: 0.9869 - val_loss: 0.0903 - val_accuracy: 0.9726\n",
            "Epoch 8/10\n",
            "375/375 [==============================] - 3s 8ms/step - loss: 0.0310 - accuracy: 0.9908 - val_loss: 0.0946 - val_accuracy: 0.9717\n",
            "Epoch 9/10\n",
            "375/375 [==============================] - 2s 7ms/step - loss: 0.0281 - accuracy: 0.9916 - val_loss: 0.0971 - val_accuracy: 0.9747\n",
            "Epoch 10/10\n",
            "375/375 [==============================] - 2s 6ms/step - loss: 0.0211 - accuracy: 0.9940 - val_loss: 0.0940 - val_accuracy: 0.9732\n",
            "313/313 [==============================] - 1s 2ms/step - loss: 0.0882 - accuracy: 0.9729\n",
            "Test loss: 0.08817490935325623\n",
            "Test accuracy: 0.9728999733924866\n"
          ]
        }
      ]
    },
    {
      "cell_type": "code",
      "source": [
        "num_samples_to_display = 5\n",
        "sample_indices = np.random.choice(len(x_test), num_samples_to_display, replace=False)\n",
        "sample_images = x_test[sample_indices]\n",
        "sample_labels = y_test[sample_indices]\n",
        "sample_predictions = model.predict(sample_images)\n",
        "\n",
        "for i in range(num_samples_to_display):\n",
        "    print(\"Image:\", i+1)\n",
        "    print(\"True Label:\", sample_labels[i])\n",
        "    predicted_class = np.argmax(sample_predictions[i])\n",
        "    print(\"Predicted Class:\", predicted_class)\n",
        "    print(\"---------------\")"
      ],
      "metadata": {
        "colab": {
          "base_uri": "https://localhost:8080/"
        },
        "id": "oLvf2eAnTigW",
        "outputId": "86818fe3-cdee-4c9c-86bf-28947a9c6493"
      },
      "execution_count": null,
      "outputs": [
        {
          "output_type": "stream",
          "name": "stdout",
          "text": [
            "1/1 [==============================] - 0s 179ms/step\n",
            "Image: 1\n",
            "True Label: 5\n",
            "Predicted Class: 5\n",
            "---------------\n",
            "Image: 2\n",
            "True Label: 2\n",
            "Predicted Class: 2\n",
            "---------------\n",
            "Image: 3\n",
            "True Label: 8\n",
            "Predicted Class: 8\n",
            "---------------\n",
            "Image: 4\n",
            "True Label: 0\n",
            "Predicted Class: 0\n",
            "---------------\n",
            "Image: 5\n",
            "True Label: 8\n",
            "Predicted Class: 8\n",
            "---------------\n"
          ]
        }
      ]
    }
  ]
}